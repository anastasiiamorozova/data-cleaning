{
 "cells": [
  {
   "cell_type": "code",
   "execution_count": 2,
   "metadata": {},
   "outputs": [],
   "source": [
    "import pathlib\n",
    "import csv\n",
    "import re"
   ]
  },
  {
   "cell_type": "code",
   "execution_count": 3,
   "metadata": {},
   "outputs": [],
   "source": [
    "from pathlib import Path\n",
    "from datetime import datetime"
   ]
  },
  {
   "cell_type": "code",
   "execution_count": 4,
   "metadata": {},
   "outputs": [],
   "source": [
    "def clean_row(row):\n",
    "    n = row['name']\n",
    "    n = n.upper() #make upper case\n",
    "    n = re.sub('[^A-Z0-9\\s\\']', '', n) #find a regular expression pattern and sub with nothing meaning remove\n",
    "    n = re.sub('\\s+',' ',n) #find a pattern and expression where to look for it. (\\s+) means one space or more and is regular expression, we substitute it with a space in \"n\" row\n",
    "    n = n.strip()\n",
    "    row['name'] = n\n",
    "    return(row)"
   ]
  },
  {
   "cell_type": "code",
   "execution_count": 5,
   "metadata": {},
   "outputs": [],
   "source": [
    "#This check ensures that the code block inside it only runs when the script is not being imported \n",
    "# as a module in another script. \n",
    "if __name__ == '__main__':\n",
    "    ipath = Path('your_file.csv')\n",
    "    #This line gets the current date\n",
    "    timestamp = datetime.now().strftime('%y-%m-%d')"
   ]
  },
  {
   "cell_type": "code",
   "execution_count": 6,
   "metadata": {},
   "outputs": [],
   "source": [
    "#ipath will now hold the path to the input file.\n",
    "ipath = Path('your_file.csv')\n",
    "#This will be used to create a unique, time-stamped filename for the output file.\n",
    "timestamp = datetime.now().strftime('%y-%m-%d')\n",
    "opath = Path(f'{ipath.stem}_cleaned_{timestamp}.csv')"
   ]
  },
  {
   "cell_type": "code",
   "execution_count": 7,
   "metadata": {},
   "outputs": [
    {
     "name": "stdout",
     "output_type": "stream",
     "text": [
      "{'case_no': '188 of 99', 'case_type': 'criminal appeal', 'case_date': '2001-10-03', 'case_court': 'High Court at Mombasa', 'case_status': 'judgment', 'name': 'JOHN LUKA OSIEMO', 'role': 'judge'}\n"
     ]
    }
   ],
   "source": [
    "with (\n",
    "    open(ipath, 'r') as ifile,\n",
    "    open(opath, 'w') as ofile,\n",
    "):\n",
    "    reader = csv.DictReader(ifile)\n",
    "    headers = reader.fieldnames\n",
    "    writer = csv.DictWriter(ofile, fieldnames=headers)\n",
    "    \n",
    "    writer.writeheader()\n",
    "    \n",
    "    for row in reader:\n",
    "        r = clean_row(row)\n",
    "        writer.writerow(r)\n",
    "print(r)"
   ]
  }
 ],
 "metadata": {
  "kernelspec": {
   "display_name": "Python 3",
   "language": "python",
   "name": "python3"
  },
  "language_info": {
   "codemirror_mode": {
    "name": "ipython",
    "version": 3
   },
   "file_extension": ".py",
   "mimetype": "text/x-python",
   "name": "python",
   "nbconvert_exporter": "python",
   "pygments_lexer": "ipython3",
   "version": "3.9.6"
  },
  "orig_nbformat": 4
 },
 "nbformat": 4,
 "nbformat_minor": 2
}
